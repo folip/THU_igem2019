{
 "cells": [
  {
   "cell_type": "code",
   "execution_count": 20,
   "metadata": {},
   "outputs": [
    {
     "name": "stdout",
     "output_type": "stream",
     "text": [
      "The autoreload extension is already loaded. To reload it, use:\n",
      "  %reload_ext autoreload\n"
     ]
    }
   ],
   "source": [
    "import struct\n",
    "import random\n",
    "import os\n",
    "import numpy as np\n",
    "import pandas as pd \n",
    "import argparse\n",
    "import logging\n",
    "import sys\n",
    "import operator\n",
    "from hashlib import md5\n",
    "from reedsolo import RSCodec\n",
    "from math import ceil\n",
    "from math import log, floor, sqrt\n",
    "import random\n",
    "import json\n",
    "import numpy as np\n",
    "from numpy.random import RandomState\n",
    "import scipy.interpolate as inter\n",
    "import math\n",
    "import csv\n",
    "from Fountain_Helpers import *\n",
    "from Visual import * \n",
    "from FT_class import *\n",
    "from Model_Helpers import *\n",
    "from tqdm import tqdm\n",
    "logging.getLogger().setLevel(logging.INFO)\n",
    "from scipy import stats\n",
    "import cv2 as cv\n",
    "%load_ext autoreload\n",
    "%autoreload 2\n",
    "\n",
    "MASK_LENGTH = 32"
   ]
  },
  {
   "cell_type": "code",
   "execution_count": 21,
   "metadata": {},
   "outputs": [],
   "source": [
    "class Mask:\n",
    "    # random mask generator\n",
    "    def __init__(self, seed, scanner = None, mask_length = 96,withdraw = 0, mask_space_size = 2, fp = None, rp = None):\n",
    "        self.mask_length = mask_length\n",
    "        self.mask_space_size = mask_space_size\n",
    "        self.seed = seed\n",
    "        self.withdraw = withdraw\n",
    "        self.scanner = scanner\n",
    "        if self.scanner == None:\n",
    "            self.scanner = Scanner()\n",
    "        self.masks = self.gen_random_masks(4**self.mask_space_size)  \n",
    "        self.fp = fp\n",
    "        self.rp = rp\n",
    "        self.hit_indexes = []\n",
    "        self.encode_result = []\n",
    "        self.fail = []\n",
    "        \n",
    "    def gen_random_mask(self):\n",
    "        return random_dna(self.mask_length)\n",
    "    \n",
    "    def gen_random_masks(self,mask_num = 16):\n",
    "        self.refresh()\n",
    "        self.masks = [self.gen_random_mask() for i in range(mask_num)]\n",
    "        return self.masks\n",
    "        \n",
    "    def refresh(self):\n",
    "        random.seed(self.seed)\n",
    "        for i in range(self.withdraw):\n",
    "            random.randint(0,255)\n",
    "        \n",
    "    def assemble(self,dna,mask_index):\n",
    "        dna = num_to_dna(mask_index,self.mask_space_size) + dna\n",
    "        if self.rp != None and self.fp != None:\n",
    "            return self.fp + dna + self.rp\n",
    "        else: return dna\n",
    "    \n",
    "    def encode_dna(self,dna):\n",
    "        temp = []\n",
    "        for (i,m_dna) in enumerate(self.masks):\n",
    "            masked_dna = self.assemble(xor_dna(dna,m_dna),i)\n",
    "            temp.append(masked_dna)\n",
    "            if(self.scanner.Pass(masked_dna)):\n",
    "                return i, masked_dna, 0\n",
    "        #all fail\n",
    "        masked_dna, max_homo= self.scanner.select_best(temp)\n",
    "#         self.hit_indexes.append(-1)\n",
    "#         self.encode_result.append(masked_dna)\n",
    "        return -1, masked_dna, max_homo\n",
    "\n",
    "    \n",
    "    def encode(self,dnas):\n",
    "        self.encode_result = []\n",
    "        self.hit_indexes = []\n",
    "        self.fail = []\n",
    "        for j,dna in enumerate(dnas):\n",
    "            hit_index, masked_dna, max_homo = self.encode_dna(dna)\n",
    "            self.hit_indexes.append(hit_index)\n",
    "            self.encode_result.append(masked_dna)\n",
    "            if(hit_index == -1):\n",
    "                self.fail.append([j,masked_dna,max_homo])\n",
    "        return self.encode_result, self.hit_indexes\n",
    "    \n",
    "    def decode(self,dnas):\n",
    "        self.re_dnas = []\n",
    "        for re_dna in dnas:\n",
    "            mask_index = dna_to_int_array(re_dna[:self.mask_space_size])[0]\n",
    "            re_dna = xor_dna(re_dna[self.mask_space_size:],self.masks[mask_index])\n",
    "            self.re_dnas.append(re_dna)\n",
    "        return self.re_dnas\n",
    "\n",
    "def data_to_dnas(data,bar_code_length = 8):\n",
    "    dnas = []\n",
    "    for i,d in enumerate(data):\n",
    "        d = num_to_dna(i,bar_code_length) + byte_to_dna(d)\n",
    "        dnas.append(d)\n",
    "    return dnas\n",
    "\n",
    "def dnas_to_data(dnas,chunk_num,bar_code_length = 8):\n",
    "    data_chunks = [b'' for b in range(chunk_num)]\n",
    "    for dna in dnas:\n",
    "        index = dna_to_num(dna[:bar_code_length])\n",
    "        payload = dna_to_byte(dna[bar_code_length:])\n",
    "        data_chunks[index] = payload\n",
    "    return b''.join(data_chunks)\n",
    "\n",
    "def index_len(chunk_num):\n",
    "    return int(sqrt(sqrt(chunk_num))) + 1"
   ]
  },
  {
   "cell_type": "code",
   "execution_count": 22,
   "metadata": {},
   "outputs": [],
   "source": [
    "B_2_N = {\n",
    "    'A': 0,\n",
    "    'C': 1,\n",
    "    'G': 2,\n",
    "    'T': 3\n",
    "}\n",
    "\n",
    "def dna_to_num(dna):\n",
    "    return sum([num * 4**i for i,num in enumerate([B_2_N[b] for b in dna][::-1])])"
   ]
  },
  {
   "cell_type": "code",
   "execution_count": 23,
   "metadata": {},
   "outputs": [],
   "source": [
    "data, file_size, chunk_num = pre_process('content.rar',20)\n",
    "index_l = index_len(chunk_num)\n",
    "dnas = data_to_dnas(data,index_l)\n",
    "\n",
    "s = Scanner()\n",
    "m = Mask(87211,withdraw = 102,scanner = s, mask_length = 100, mask_space_size=3)\n",
    "\n",
    "encode_result = m.encode(dnas)[0]\n",
    "re_dnas = m.decode(encode_result)\n",
    "\n",
    "re_data = dnas_to_data(dnas,chunk_num,index_l)\n",
    "with open('mreturn.rar','wb') as f:\n",
    "        f.write(re_data)"
   ]
  },
  {
   "cell_type": "code",
   "execution_count": 24,
   "metadata": {},
   "outputs": [
    {
     "data": {
      "text/plain": [
       "0.5444444444444444"
      ]
     },
     "execution_count": 24,
     "metadata": {},
     "output_type": "execute_result"
    }
   ],
   "source": [
    "max([s.Gc(dna) for dna in encode_result])"
   ]
  },
  {
   "cell_type": "code",
   "execution_count": 25,
   "metadata": {},
   "outputs": [
    {
     "data": {
      "text/plain": [
       "0"
      ]
     },
     "execution_count": 25,
     "metadata": {},
     "output_type": "execute_result"
    }
   ],
   "source": [
    "sum([s.gc_pass(dna) == False for dna in encode_result])"
   ]
  },
  {
   "cell_type": "code",
   "execution_count": 26,
   "metadata": {},
   "outputs": [],
   "source": [
    "C = {\n",
    "    'A': (0,0.4,1),\n",
    "    'T': (0.8,0.2,0.2),\n",
    "    'G': (1,0,0.8),\n",
    "    'C': (0,1,0.4),\n",
    "    'D': (1,1,1),\n",
    "    'I': (0.8,0.8,0.4),\n",
    "    'B': (0,0,0)\n",
    "}\n",
    "\n",
    "class dna_painter:\n",
    "    def __init__(self,W = 10,H = 10):\n",
    "        self.W = W\n",
    "        self.H = H\n",
    "        self.Line_width = int(H/3) + 1\n",
    "        self.Line_spacing = int(H/2) + 1\n",
    "        \n",
    "    def rec(self,img,x,n,c,ins = 0):\n",
    "        if ins == 1:\n",
    "            cv.rectangle(img,(x*self.W,n*self.H),(x*self.W+self.W-1,n*self.H+self.H-1),C['I'],-1)\n",
    "        else:\n",
    "            cv.rectangle(img,(x*self.W,n*self.H),(x*self.W+self.W-1,n*self.H+self.H-1),c,-1)\n",
    "    \n",
    "    def line(self,img,x,n,l):\n",
    "        cv.line(img,(x*self.W, n*self.H + self.Line_spacing),(x*self.W + l*self.W-1,n*self.H + self.Line_spacing),(1,1,1),self.Line_width)\n",
    "    \n",
    "    def draw_dna(self,img,dna,row = 0):\n",
    "        for i,base in enumerate(dna):\n",
    "            self.rec(img,i,row,C[base])\n",
    "            \n",
    "    def draw_text(self,img,text,x,n,c = (1,1,1)):\n",
    "        \n",
    "        cv.putText(img, text, (x * self.W,n * self.H+3), cv.FONT_HERSHEY_COMPLEX, 0.6, c, 1)\n",
    "\n",
    "    def draw_dnas(self,dna_array,src = 'dna.png'):\n",
    "        img = np.zeros([self.H*(len(dna_array) * 2 + 2),len(dna_array[0])*self.W,3])\n",
    "        for i in range(len(dna_array)):\n",
    "            self.draw_dna(img,dna_array[i],i*2)\n",
    "        plt.imsave(src,img)\n",
    "        \n",
    "        return plt.imshow(img)\n",
    "    \n",
    "    def draw_dnas_with_marks(self,dna_array,src = 'dna_repeat.png', scanner = None):\n",
    "        color = lambda b: (0,1,0) if b == True else (1,0,0)  \n",
    "        self.scanner = scanner\n",
    "        if scanner == None:\n",
    "            self.scanner = Scanner()\n",
    "        gcs = [[self.scanner.Gc(dna), self.scanner.gc_pass(dna)] for dna in dna_array]\n",
    "        homos = [self.scanner.scan_repeats(dna,True) for dna in dna_array] \n",
    "        # get gc and rp\n",
    "        \n",
    "        img = np.zeros([self.H*(len(dna_array) * 2),(len(dna_array[0])+11)*(self.W),3])\n",
    "        #init image\n",
    "        \n",
    "        for i in range(len(dna_array)):\n",
    "            self.draw_dna(img,dna_array[i],i*2)\n",
    "            for homo in homos[i]:\n",
    "                l = homo[1]\n",
    "                start = homo[2]\n",
    "                self.line(img,start,i*2 + 1,l)\n",
    "            self.draw_text(img,str(gcs[i][0])[:4],len(dna_array[0]) + 1, i*2+1, color(gcs[i][1]))\n",
    "            if (homos[i] != []):\n",
    "                self.draw_text(img,'rej',len(dna_array[0]) + 6, i*2+1, color(False))\n",
    "            else:\n",
    "                self.draw_text(img,'pas',len(dna_array[0]) + 6, i*2+1, color(True))\n",
    "        plt.imsave(src,img)\n",
    "        \n",
    "        return plt.imshow(img)\n",
    "\n",
    "    def draw_error(self,img,errors,row,num):\n",
    "        for error in errors:\n",
    "            x = error[0]\n",
    "            typ = error[1]\n",
    "            to = error[2]\n",
    "            if(typ == '-'):\n",
    "                to = 'D'\n",
    "            if(typ != '+'):\n",
    "                self.rec(img,x,row,C[to])\n",
    "            else:\n",
    "                self.rec(img,x,row,C[to],1)\n",
    "        "
   ]
  },
  {
   "cell_type": "code",
   "execution_count": null,
   "metadata": {},
   "outputs": [],
   "source": []
  },
  {
   "cell_type": "code",
   "execution_count": 30,
   "metadata": {},
   "outputs": [
    {
     "data": {
      "text/plain": [
       "<matplotlib.image.AxesImage at 0x1a5eb27f7f0>"
      ]
     },
     "execution_count": 30,
     "metadata": {},
     "output_type": "execute_result"
    },
    {
     "data": {
      "image/png": "[encoded data removed]",
      "text/plain": [
       "<Figure size 432x288 with 1 Axes>"
      ]
     },
     "metadata": {
      "needs_background": "light"
     },
     "output_type": "display_data"
    }
   ],
   "source": [
    "\n",
    "p = dna_painter()\n",
    "p.draw_dnas_with_marks([d for d in encode_result][:50])\n",
    "p.draw_dnas_with_marks([d for d in dnas],'ori.png')\n",
    "#p.draw_dnas(m.masks)"
   ]
  },
  {
   "cell_type": "code",
   "execution_count": 312,
   "metadata": {},
   "outputs": [
    {
     "data": {
      "text/plain": [
       "0.5444444444444444"
      ]
     },
     "execution_count": 312,
     "metadata": {},
     "output_type": "execute_result"
    }
   ],
   "source": [
    "max([scanner.Gc(dna) for dna in encode_result])"
   ]
  },
  {
   "cell_type": "code",
   "execution_count": 6,
   "metadata": {},
   "outputs": [],
   "source": [
    "class Scanner:\n",
    "    def __init__(self,max_repeat = 3, gc_interval = [0.45,0.55]):\n",
    "        self.max_repeat = max_repeat\n",
    "        self.gc_interval = gc_interval\n",
    "        \n",
    "    def scan_repeats(self,dna,record_position = False):\n",
    "        repeats = []\n",
    "        prv = dna[0]\n",
    "        r_num = 1\n",
    "        for i,c in enumerate(dna[1:]):\n",
    "            if prv == c:\n",
    "                r_num += 1\n",
    "            else:\n",
    "                if(r_num > self.max_repeat):\n",
    "                    if(record_position):\n",
    "                        repeats.append([prv,r_num,i-r_num+1])\n",
    "                    else:\n",
    "                        repeats.append([prv,r_num])\n",
    "                r_num = 1\n",
    "                prv = c\n",
    "\n",
    "        if(r_num > self.max_repeat): \n",
    "                    if(record_position):\n",
    "                        repeats.append([prv,r_num,i-r_num+1])\n",
    "                    else:\n",
    "                        repeats.append([prv,r_num])\n",
    "        return repeats\n",
    "    \n",
    "    def max_repeats(self,dna):\n",
    "        rs = self.scan_repeats(dna)\n",
    "        if rs == []: return 0\n",
    "        else: return max([r[1] for r in rs])\n",
    "        \n",
    "    def repeats_point(self,dna):\n",
    "        rs = self.scan_repeats(dna)\n",
    "        if rs == []: return 0\n",
    "        else:\n",
    "            return sum([r[1] / (self.max_repeat + 1) for r in rs])\n",
    "\n",
    "    def Gc(self,dna):\n",
    "        gc = dna.count('G') + dna.count('C')\n",
    "        l = len(dna)\n",
    "        return float(gc) / l\n",
    "    \n",
    "    def gc_pass(self,dna):\n",
    "        if self.gc_interval[0]  < self.Gc(dna) < self.gc_interval[1]:\n",
    "            return True\n",
    "        else:\n",
    "            return False\n",
    "    \n",
    "    def Pass(self,dna,with_primer = False):\n",
    "        if self.gc_pass(dna) and self.repeats_point(dna)  == 0:\n",
    "            return True\n",
    "        else:\n",
    "            return False\n",
    "    \n",
    "    def ave_gc(self,dnas):\n",
    "        return sum([self.Gc(dna) for dna in dnas])/len(dnas)\n",
    "\n",
    "    def rp_total(self,dnas):\n",
    "        return(sum([self.repeats_point(dna) for dna in dnas]))\n",
    "\n",
    "    def Entropy(self,labels, base=4):\n",
    "        # 计算概率分布\n",
    "        labels = list(labels)\n",
    "        probs = pd.Series(labels).value_counts() / len(labels)\n",
    "        # 计算底数为base的熵\n",
    "        logging.debug(probs)\n",
    "        en = stats.entropy(probs, base=base)\n",
    "        return en\n",
    "    \n",
    "    def select_best(self,dnas):\n",
    "        min_rp = 10000\n",
    "        best_dna = dnas[0]\n",
    "        for dna in dnas:\n",
    "            if(self.gc_pass(dna)):\n",
    "                if self.repeats_point(dna) < min_rp:\n",
    "                    min_rp = self.repeats_point(dna)\n",
    "                    best_dna = dna\n",
    "        return best_dna,min_rp\n",
    "                \n",
    "        \n",
    "\n"
   ]
  },
  {
   "cell_type": "code",
   "execution_count": 34,
   "metadata": {},
   "outputs": [
    {
     "data": {
      "text/plain": [
       "('GAGACCGTCGTAAAACCATAGACCTTCCTACGAGGTGCTGGGCCCGAGAATCATGCGCATCATCTCATTTGTAAACTTGTGAATCTACTCTGCATTATCA',\n",
       " 1.0)"
      ]
     },
     "execution_count": 34,
     "metadata": {},
     "output_type": "execute_result"
    }
   ],
   "source": []
  },
  {
   "cell_type": "code",
   "execution_count": 22,
   "metadata": {},
   "outputs": [],
   "source": [
    "def mask(dna,m_dnas):\n",
    "    for (i,m_dna) in enumerate(m_dnas):\n",
    "        s_dna = xor_dna(dna,m_dna)\n",
    "        #logging.debug(s_dna)\n",
    "        if Pass(s_dna)[0]:\n",
    "            return i,s_dna\n",
    "    \n",
    "    rp_min = 100\n",
    "    r_dna = dna\n",
    "    for (i,m_dna) in enumerate(m_dnas):\n",
    "        s_dna = xor_dna(dna,m_dna)\n",
    "        gc,rp = Pass(s_dna)[1:]\n",
    "        if(0.45 < gc < 0.55):\n",
    "            if rp < rp_min:\n",
    "                rp_min = rp\n",
    "                r_dna = s_dna\n",
    "                \n",
    "    return -1,[r_dna,rp_min]"
   ]
  },
  {
   "cell_type": "code",
   "execution_count": 23,
   "metadata": {},
   "outputs": [],
   "source": [
    "file_name = '200M.pdf'\n",
    "chunk_size = 32\n",
    "f_in, f_size, chunk_num = pre_process(file_name, chunk_size)\n",
    "dnas = [byte_to_dna(chunk) for chunk in f_in]"
   ]
  },
  {
   "cell_type": "code",
   "execution_count": 24,
   "metadata": {},
   "outputs": [],
   "source": [
    "random.seed(81231)\n",
    "m_dnas = []\n",
    "for i in range(10000):\n",
    "    m_dnas.append(random_dna(128))\n",
    "#m_dnas = m_dnas[:400]\n",
    "#m_dnas = ['A' * 128]+ m_dnas\n",
    "#m_dnas = ['A' * 128] + ['C' * 128] + ['A' * 64 + 'C' * 64] + ['A' * 64 + 'T' * 64] + m_dnas "
   ]
  },
  {
   "cell_type": "code",
   "execution_count": 26,
   "metadata": {},
   "outputs": [
    {
     "name": "stderr",
     "output_type": "stream",
     "text": [
      "  0%|                                                                                          | 0/100 [00:00<?, ?it/s]\n"
     ]
    },
    {
     "ename": "NameError",
     "evalue": "name 'homo_pass' is not defined",
     "output_type": "error",
     "traceback": [
      "\u001b[1;31m---------------------------------------------------------------------------\u001b[0m",
      "\u001b[1;31mNameError\u001b[0m                                 Traceback (most recent call last)",
      "\u001b[1;32m<ipython-input-26-8446e7483bff>\u001b[0m in \u001b[0;36m<module>\u001b[1;34m\u001b[0m\n\u001b[0;32m      2\u001b[0m \u001b[1;32mfor\u001b[0m \u001b[0mdna\u001b[0m \u001b[1;32min\u001b[0m \u001b[0mtqdm\u001b[0m\u001b[1;33m(\u001b[0m\u001b[0mdnas\u001b[0m\u001b[1;33m[\u001b[0m\u001b[1;33m:\u001b[0m\u001b[1;36m100\u001b[0m\u001b[1;33m]\u001b[0m\u001b[1;33m)\u001b[0m\u001b[1;33m:\u001b[0m\u001b[1;33m\u001b[0m\u001b[1;33m\u001b[0m\u001b[0m\n\u001b[0;32m      3\u001b[0m     \u001b[0ms_dnas\u001b[0m \u001b[1;33m=\u001b[0m \u001b[1;33m[\u001b[0m\u001b[0mxor_dna\u001b[0m\u001b[1;33m(\u001b[0m\u001b[0mdna\u001b[0m\u001b[1;33m,\u001b[0m\u001b[0mm_dna\u001b[0m\u001b[1;33m)\u001b[0m \u001b[1;32mfor\u001b[0m \u001b[0mm_dna\u001b[0m \u001b[1;32min\u001b[0m \u001b[0mm_dnas\u001b[0m\u001b[1;33m]\u001b[0m\u001b[1;33m\u001b[0m\u001b[1;33m\u001b[0m\u001b[0m\n\u001b[1;32m----> 4\u001b[1;33m     \u001b[0mar\u001b[0m\u001b[1;33m.\u001b[0m\u001b[0mappend\u001b[0m\u001b[1;33m(\u001b[0m\u001b[0manalyze\u001b[0m\u001b[1;33m(\u001b[0m\u001b[0ms_dnas\u001b[0m\u001b[1;33m)\u001b[0m\u001b[1;33m)\u001b[0m\u001b[1;33m\u001b[0m\u001b[1;33m\u001b[0m\u001b[0m\n\u001b[0m\u001b[0;32m      5\u001b[0m \u001b[0mar\u001b[0m\u001b[1;33m\u001b[0m\u001b[1;33m\u001b[0m\u001b[0m\n",
      "\u001b[1;32m<ipython-input-21-8c9b260d31e5>\u001b[0m in \u001b[0;36manalyze\u001b[1;34m(dnas)\u001b[0m\n\u001b[0;32m    107\u001b[0m     \u001b[0mgc_or\u001b[0m \u001b[1;33m=\u001b[0m \u001b[0mgc_out_range\u001b[0m\u001b[1;33m(\u001b[0m\u001b[0mdnas\u001b[0m\u001b[1;33m)\u001b[0m\u001b[1;33m\u001b[0m\u001b[1;33m\u001b[0m\u001b[0m\n\u001b[0;32m    108\u001b[0m     \u001b[0mhomo\u001b[0m \u001b[1;33m=\u001b[0m \u001b[0mrp_total\u001b[0m\u001b[1;33m(\u001b[0m\u001b[0mdnas\u001b[0m\u001b[1;33m)\u001b[0m\u001b[1;33m\u001b[0m\u001b[1;33m\u001b[0m\u001b[0m\n\u001b[1;32m--> 109\u001b[1;33m     \u001b[0mhp\u001b[0m \u001b[1;33m=\u001b[0m \u001b[0mhomo_pass\u001b[0m\u001b[1;33m(\u001b[0m\u001b[0mdnas\u001b[0m\u001b[1;33m)\u001b[0m\u001b[1;33m\u001b[0m\u001b[1;33m\u001b[0m\u001b[0m\n\u001b[0m\u001b[0;32m    110\u001b[0m     \u001b[0mps\u001b[0m \u001b[1;33m=\u001b[0m \u001b[0mpass_num\u001b[0m\u001b[1;33m(\u001b[0m\u001b[0mdnas\u001b[0m\u001b[1;33m)\u001b[0m\u001b[1;33m\u001b[0m\u001b[1;33m\u001b[0m\u001b[0m\n\u001b[0;32m    111\u001b[0m     \u001b[1;32mreturn\u001b[0m \u001b[1;33m[\u001b[0m\u001b[0mgc\u001b[0m\u001b[1;33m,\u001b[0m\u001b[0mgc_or\u001b[0m\u001b[1;33m,\u001b[0m\u001b[0mhomo\u001b[0m\u001b[1;33m,\u001b[0m\u001b[0mhp\u001b[0m\u001b[1;33m,\u001b[0m\u001b[0mps\u001b[0m\u001b[1;33m]\u001b[0m\u001b[1;33m\u001b[0m\u001b[1;33m\u001b[0m\u001b[0m\n",
      "\u001b[1;31mNameError\u001b[0m: name 'homo_pass' is not defined"
     ]
    }
   ],
   "source": [
    "ar = []\n",
    "for dna in tqdm(dnas[:100]):\n",
    "    s_dnas = [xor_dna(dna,m_dna) for m_dna in m_dnas]\n",
    "    ar.append(analyze(s_dnas))\n",
    "ar"
   ]
  },
  {
   "cell_type": "code",
   "execution_count": 270,
   "metadata": {},
   "outputs": [
    {
     "name": "stderr",
     "output_type": "stream",
     "text": [
      "73782it [00:27, 2689.66it/s]\n"
     ]
    },
    {
     "data": {
      "text/plain": [
       "(73782, 3446, 351551, 4.764725813884145)"
      ]
     },
     "execution_count": 270,
     "metadata": {},
     "output_type": "execute_result"
    }
   ],
   "source": [
    "# Mask Test\n",
    "pos_arr = []\n",
    "s_dnas = []\n",
    "f_dnas = []\n",
    "rps = []\n",
    "f_pos = []\n",
    "for i,dna in tqdm(enumerate(dnas)):\n",
    "    pos, s_dna = mask_with_primer(dna)\n",
    "    if pos == -1:\n",
    "            s_dna, rp = (s_dna[0],s_dna[1])\n",
    "            rps.append(rp)\n",
    "            f_pos.append(i)\n",
    "            f_dnas.append(s_dna)\n",
    "    pos_arr.append(pos)\n",
    "    #s_dnas.appned(s_dna)\n",
    "len(dnas),pos_arr.count(-1),sum(pos_arr)+len(dnas),(sum(pos_arr)+len(dnas))/len(dnas)\n",
    "#f_pos,rps,f_dnas"
   ]
  },
  {
   "cell_type": "code",
   "execution_count": 252,
   "metadata": {},
   "outputs": [
    {
     "data": {
      "text/plain": [
       "73782"
      ]
     },
     "execution_count": 252,
     "metadata": {},
     "output_type": "execute_result"
    }
   ],
   "source": [
    "len(dnas)"
   ]
  },
  {
   "cell_type": "code",
   "execution_count": 274,
   "metadata": {},
   "outputs": [
    {
     "name": "stderr",
     "output_type": "stream",
     "text": [
      "100%|██████████████████████████████████████████████████████████████████████████████████| 10/10 [00:51<00:00,  5.30s/it]\n"
     ]
    }
   ],
   "source": [
    "\n",
    "r = []\n",
    "for m_dna in tqdm(m_dnas[:10]):\n",
    "    s_dnas = [xor_dna(m_dna,dna) for dna in dnas]\n",
    "    r.append([gc_out_range(s_dnas),rp_total(s_dnas),pass_num(s_dnas),ave_gc(s_dnas),Gc(m_dna),repeats_point(m_dna),Entropy(m_dna),m_dna])"
   ]
  },
  {
   "cell_type": "code",
   "execution_count": 275,
   "metadata": {},
   "outputs": [
    {
     "data": {
      "text/html": [
       "<div>\n",
       "<style scoped>\n",
       "    .dataframe tbody tr th:only-of-type {\n",
       "        vertical-align: middle;\n",
       "    }\n",
       "\n",
       "    .dataframe tbody tr th {\n",
       "        vertical-align: top;\n",
       "    }\n",
       "\n",
       "    .dataframe thead th {\n",
       "        text-align: right;\n",
       "    }\n",
       "</style>\n",
       "<table border=\"1\" class=\"dataframe\">\n",
       "  <thead>\n",
       "    <tr style=\"text-align: right;\">\n",
       "      <th></th>\n",
       "      <th>gc out range</th>\n",
       "      <th>total homo</th>\n",
       "      <th>pass num</th>\n",
       "      <th>ave gc</th>\n",
       "      <th>mask gc</th>\n",
       "      <th>mask homo</th>\n",
       "      <th>mask entropy</th>\n",
       "    </tr>\n",
       "  </thead>\n",
       "  <tbody>\n",
       "    <tr>\n",
       "      <th>gc out range</th>\n",
       "      <td>1.000000</td>\n",
       "      <td>0.822542</td>\n",
       "      <td>0.073081</td>\n",
       "      <td>0.306106</td>\n",
       "      <td>-0.282179</td>\n",
       "      <td>0.837580</td>\n",
       "      <td>-0.894056</td>\n",
       "    </tr>\n",
       "    <tr>\n",
       "      <th>total homo</th>\n",
       "      <td>0.822542</td>\n",
       "      <td>1.000000</td>\n",
       "      <td>0.506815</td>\n",
       "      <td>0.329278</td>\n",
       "      <td>-0.209578</td>\n",
       "      <td>0.995191</td>\n",
       "      <td>-0.911248</td>\n",
       "    </tr>\n",
       "    <tr>\n",
       "      <th>pass num</th>\n",
       "      <td>0.073081</td>\n",
       "      <td>0.506815</td>\n",
       "      <td>1.000000</td>\n",
       "      <td>-0.041542</td>\n",
       "      <td>-0.010491</td>\n",
       "      <td>0.530030</td>\n",
       "      <td>-0.336333</td>\n",
       "    </tr>\n",
       "    <tr>\n",
       "      <th>ave gc</th>\n",
       "      <td>0.306106</td>\n",
       "      <td>0.329278</td>\n",
       "      <td>-0.041542</td>\n",
       "      <td>1.000000</td>\n",
       "      <td>-0.850716</td>\n",
       "      <td>0.298385</td>\n",
       "      <td>-0.167657</td>\n",
       "    </tr>\n",
       "    <tr>\n",
       "      <th>mask gc</th>\n",
       "      <td>-0.282179</td>\n",
       "      <td>-0.209578</td>\n",
       "      <td>-0.010491</td>\n",
       "      <td>-0.850716</td>\n",
       "      <td>1.000000</td>\n",
       "      <td>-0.225186</td>\n",
       "      <td>0.090899</td>\n",
       "    </tr>\n",
       "    <tr>\n",
       "      <th>mask homo</th>\n",
       "      <td>0.837580</td>\n",
       "      <td>0.995191</td>\n",
       "      <td>0.530030</td>\n",
       "      <td>0.298385</td>\n",
       "      <td>-0.225186</td>\n",
       "      <td>1.000000</td>\n",
       "      <td>-0.916055</td>\n",
       "    </tr>\n",
       "    <tr>\n",
       "      <th>mask entropy</th>\n",
       "      <td>-0.894056</td>\n",
       "      <td>-0.911248</td>\n",
       "      <td>-0.336333</td>\n",
       "      <td>-0.167657</td>\n",
       "      <td>0.090899</td>\n",
       "      <td>-0.916055</td>\n",
       "      <td>1.000000</td>\n",
       "    </tr>\n",
       "  </tbody>\n",
       "</table>\n",
       "</div>"
      ],
      "text/plain": [
       "              gc out range  total homo  pass num    ave gc   mask gc  \\\n",
       "gc out range      1.000000    0.822542  0.073081  0.306106 -0.282179   \n",
       "total homo        0.822542    1.000000  0.506815  0.329278 -0.209578   \n",
       "pass num          0.073081    0.506815  1.000000 -0.041542 -0.010491   \n",
       "ave gc            0.306106    0.329278 -0.041542  1.000000 -0.850716   \n",
       "mask gc          -0.282179   -0.209578 -0.010491 -0.850716  1.000000   \n",
       "mask homo         0.837580    0.995191  0.530030  0.298385 -0.225186   \n",
       "mask entropy     -0.894056   -0.911248 -0.336333 -0.167657  0.090899   \n",
       "\n",
       "              mask homo  mask entropy  \n",
       "gc out range   0.837580     -0.894056  \n",
       "total homo     0.995191     -0.911248  \n",
       "pass num       0.530030     -0.336333  \n",
       "ave gc         0.298385     -0.167657  \n",
       "mask gc       -0.225186      0.090899  \n",
       "mask homo      1.000000     -0.916055  \n",
       "mask entropy  -0.916055      1.000000  "
      ]
     },
     "execution_count": 275,
     "metadata": {},
     "output_type": "execute_result"
    },
    {
     "data": {
      "image/png": "[encoded data removed]",
      "text/plain": [
       "<Figure size 792x648 with 2 Axes>"
      ]
     },
     "metadata": {},
     "output_type": "display_data"
    }
   ],
   "source": [
    "sm = pd.DataFrame([ri[:-1] for ri in r[:300]],columns= ['gc out range','total homo','pass num','ave gc','mask gc','mask homo','mask entropy'])\n",
    "corr = sm.corr()\n",
    "heatmap(corr)\n",
    "corr"
   ]
  },
  {
   "cell_type": "code",
   "execution_count": 165,
   "metadata": {},
   "outputs": [
    {
     "data": {
      "text/plain": [
       "array([[1.        , 0.60688296],\n",
       "       [0.60688296, 1.        ]])"
      ]
     },
     "execution_count": 165,
     "metadata": {},
     "output_type": "execute_result"
    }
   ],
   "source": [
    "sm = np.array([s_rp,m_rp])\n",
    "cor = np.corrcoef(sm)\n",
    "cor"
   ]
  },
  {
   "cell_type": "code",
   "execution_count": 276,
   "metadata": {},
   "outputs": [
    {
     "data": {
      "text/html": [
       "<div>\n",
       "<style scoped>\n",
       "    .dataframe tbody tr th:only-of-type {\n",
       "        vertical-align: middle;\n",
       "    }\n",
       "\n",
       "    .dataframe tbody tr th {\n",
       "        vertical-align: top;\n",
       "    }\n",
       "\n",
       "    .dataframe thead th {\n",
       "        text-align: right;\n",
       "    }\n",
       "</style>\n",
       "<table border=\"1\" class=\"dataframe\">\n",
       "  <thead>\n",
       "    <tr style=\"text-align: right;\">\n",
       "      <th></th>\n",
       "      <th>gc</th>\n",
       "      <th>homo cost</th>\n",
       "      <th>pass num</th>\n",
       "      <th>ave gc</th>\n",
       "      <th>mask gc</th>\n",
       "      <th>mask homo cost</th>\n",
       "      <th>mask entropy</th>\n",
       "      <th>mask</th>\n",
       "    </tr>\n",
       "  </thead>\n",
       "  <tbody>\n",
       "    <tr>\n",
       "      <th>0</th>\n",
       "      <td>19603</td>\n",
       "      <td>192243.25</td>\n",
       "      <td>13050</td>\n",
       "      <td>0.502761</td>\n",
       "      <td>0.000000</td>\n",
       "      <td>32.00</td>\n",
       "      <td>0.000000</td>\n",
       "      <td>AAAAAAAAAAAAAAAAAAAAAAAAAAAAAAAAAAAAAAAAAAAAAA...</td>\n",
       "    </tr>\n",
       "    <tr>\n",
       "      <th>1</th>\n",
       "      <td>19603</td>\n",
       "      <td>192243.25</td>\n",
       "      <td>13050</td>\n",
       "      <td>0.497239</td>\n",
       "      <td>1.000000</td>\n",
       "      <td>32.00</td>\n",
       "      <td>0.000000</td>\n",
       "      <td>CCCCCCCCCCCCCCCCCCCCCCCCCCCCCCCCCCCCCCCCCCCCCC...</td>\n",
       "    </tr>\n",
       "    <tr>\n",
       "      <th>2</th>\n",
       "      <td>3862</td>\n",
       "      <td>193622.50</td>\n",
       "      <td>19686</td>\n",
       "      <td>0.500053</td>\n",
       "      <td>0.500000</td>\n",
       "      <td>32.00</td>\n",
       "      <td>0.500000</td>\n",
       "      <td>AAAAAAAAAAAAAAAAAAAAAAAAAAAAAAAAAAAAAAAAAAAAAA...</td>\n",
       "    </tr>\n",
       "    <tr>\n",
       "      <th>3</th>\n",
       "      <td>19603</td>\n",
       "      <td>190605.75</td>\n",
       "      <td>13042</td>\n",
       "      <td>0.502761</td>\n",
       "      <td>0.000000</td>\n",
       "      <td>32.00</td>\n",
       "      <td>0.500000</td>\n",
       "      <td>AAAAAAAAAAAAAAAAAAAAAAAAAAAAAAAAAAAAAAAAAAAAAA...</td>\n",
       "    </tr>\n",
       "    <tr>\n",
       "      <th>4</th>\n",
       "      <td>1631</td>\n",
       "      <td>117574.25</td>\n",
       "      <td>13089</td>\n",
       "      <td>0.499713</td>\n",
       "      <td>0.531250</td>\n",
       "      <td>2.75</td>\n",
       "      <td>0.992378</td>\n",
       "      <td>CGCCTGATAGGGGGGGCTTCGTTTCCCTGCGCATTATGTAATTTCA...</td>\n",
       "    </tr>\n",
       "    <tr>\n",
       "      <th>5</th>\n",
       "      <td>2848</td>\n",
       "      <td>117259.25</td>\n",
       "      <td>10520</td>\n",
       "      <td>0.498559</td>\n",
       "      <td>0.460938</td>\n",
       "      <td>3.00</td>\n",
       "      <td>0.994429</td>\n",
       "      <td>CTAGTGAAGAAAGTAGGCGCCCCTCACAGTTCGATTGCTTACTGTG...</td>\n",
       "    </tr>\n",
       "    <tr>\n",
       "      <th>6</th>\n",
       "      <td>2155</td>\n",
       "      <td>123791.25</td>\n",
       "      <td>10820</td>\n",
       "      <td>0.500165</td>\n",
       "      <td>0.562500</td>\n",
       "      <td>2.00</td>\n",
       "      <td>0.992378</td>\n",
       "      <td>TACCTTTTCCAAGTTGTGCGGGCCAGCCACCAGCAGACCACTTCAA...</td>\n",
       "    </tr>\n",
       "    <tr>\n",
       "      <th>7</th>\n",
       "      <td>2455</td>\n",
       "      <td>107280.25</td>\n",
       "      <td>14467</td>\n",
       "      <td>0.498454</td>\n",
       "      <td>0.476562</td>\n",
       "      <td>0.00</td>\n",
       "      <td>0.996727</td>\n",
       "      <td>ATTGGCCTGCTTGGAAGCTAGTCAGATTGTGTGCTATTATAATCAT...</td>\n",
       "    </tr>\n",
       "    <tr>\n",
       "      <th>8</th>\n",
       "      <td>1666</td>\n",
       "      <td>124374.00</td>\n",
       "      <td>10516</td>\n",
       "      <td>0.501462</td>\n",
       "      <td>0.515625</td>\n",
       "      <td>2.00</td>\n",
       "      <td>0.990488</td>\n",
       "      <td>GGGAACTAACGGAACGCAGCACCGTTGGAGGGTAGTGGAGACCGGG...</td>\n",
       "    </tr>\n",
       "    <tr>\n",
       "      <th>9</th>\n",
       "      <td>1511</td>\n",
       "      <td>119259.50</td>\n",
       "      <td>11708</td>\n",
       "      <td>0.499683</td>\n",
       "      <td>0.453125</td>\n",
       "      <td>2.25</td>\n",
       "      <td>0.989361</td>\n",
       "      <td>CGTGTTTCTGTAATTTTTCTCAATTATGCCGCGGCAGGTTACCTCA...</td>\n",
       "    </tr>\n",
       "  </tbody>\n",
       "</table>\n",
       "</div>"
      ],
      "text/plain": [
       "      gc  homo cost  pass num    ave gc   mask gc  mask homo cost  \\\n",
       "0  19603  192243.25     13050  0.502761  0.000000           32.00   \n",
       "1  19603  192243.25     13050  0.497239  1.000000           32.00   \n",
       "2   3862  193622.50     19686  0.500053  0.500000           32.00   \n",
       "3  19603  190605.75     13042  0.502761  0.000000           32.00   \n",
       "4   1631  117574.25     13089  0.499713  0.531250            2.75   \n",
       "5   2848  117259.25     10520  0.498559  0.460938            3.00   \n",
       "6   2155  123791.25     10820  0.500165  0.562500            2.00   \n",
       "7   2455  107280.25     14467  0.498454  0.476562            0.00   \n",
       "8   1666  124374.00     10516  0.501462  0.515625            2.00   \n",
       "9   1511  119259.50     11708  0.499683  0.453125            2.25   \n",
       "\n",
       "   mask entropy                                               mask  \n",
       "0      0.000000  AAAAAAAAAAAAAAAAAAAAAAAAAAAAAAAAAAAAAAAAAAAAAA...  \n",
       "1      0.000000  CCCCCCCCCCCCCCCCCCCCCCCCCCCCCCCCCCCCCCCCCCCCCC...  \n",
       "2      0.500000  AAAAAAAAAAAAAAAAAAAAAAAAAAAAAAAAAAAAAAAAAAAAAA...  \n",
       "3      0.500000  AAAAAAAAAAAAAAAAAAAAAAAAAAAAAAAAAAAAAAAAAAAAAA...  \n",
       "4      0.992378  CGCCTGATAGGGGGGGCTTCGTTTCCCTGCGCATTATGTAATTTCA...  \n",
       "5      0.994429  CTAGTGAAGAAAGTAGGCGCCCCTCACAGTTCGATTGCTTACTGTG...  \n",
       "6      0.992378  TACCTTTTCCAAGTTGTGCGGGCCAGCCACCAGCAGACCACTTCAA...  \n",
       "7      0.996727  ATTGGCCTGCTTGGAAGCTAGTCAGATTGTGTGCTATTATAATCAT...  \n",
       "8      0.990488  GGGAACTAACGGAACGCAGCACCGTTGGAGGGTAGTGGAGACCGGG...  \n",
       "9      0.989361  CGTGTTTCTGTAATTTTTCTCAATTATGCCGCGGCAGGTTACCTCA...  "
      ]
     },
     "execution_count": 276,
     "metadata": {},
     "output_type": "execute_result"
    }
   ],
   "source": [
    "pd.DataFrame(r,columns=['gc','homo cost','pass num','ave gc','mask gc','mask homo cost','mask entropy','mask'])"
   ]
  },
  {
   "cell_type": "code",
   "execution_count": 45,
   "metadata": {},
   "outputs": [],
   "source": [
    "gcs = [Gc(dna) for dna in dnas]\n",
    "rps = [repeats_point(dna) for dna in dnas]"
   ]
  },
  {
   "cell_type": "code",
   "execution_count": 46,
   "metadata": {},
   "outputs": [
    {
     "data": {
      "image/png": "[encoded data removed]",
      "text/plain": [
       "<Figure size 432x288 with 1 Axes>"
      ]
     },
     "metadata": {},
     "output_type": "display_data"
    }
   ],
   "source": [
    "rp_dist = []\n",
    "rp_dist.append(rps.count(0))\n",
    "for i in range(10):\n",
    "    rp_dist.append(sum([i < rp <= i+1 for rp in rps]))\n",
    "\n",
    "gc_dist = []\n",
    "gc_intervals = [[ 0.05 *i, 0.05 *(i+1)] for i in range(8)] + [[0.4 + 0.02 *i, 0.4 + 0.02 *(i+1)] for i in range(10)] + [[ 0.6+0.05 *i, 0.6+0.05 *(i+1)] for i in range(8)] \n",
    "for interval in gc_intervals:\n",
    "    gc_dist.append(sum([interval[0] < gc < interval[1] for gc in gcs]))\n",
    "\n",
    "#line(gc_dist,[itv[0] for itv in gc_intervals])\n",
    "hist(gcs)"
   ]
  }
 ],
 "metadata": {
  "hide_input": false,
  "kernelspec": {
   "display_name": "Python 3",
   "language": "python",
   "name": "python3"
  },
  "language_info": {
   "codemirror_mode": {
    "name": "ipython",
    "version": 3
   },
   "file_extension": ".py",
   "mimetype": "text/x-python",
   "name": "python",
   "nbconvert_exporter": "python",
   "pygments_lexer": "ipython3",
   "version": "3.7.3"
  },
  "toc": {
   "base_numbering": 1,
   "nav_menu": {},
   "number_sections": true,
   "sideBar": true,
   "skip_h1_title": false,
   "title_cell": "Table of Contents",
   "title_sidebar": "Contents",
   "toc_cell": false,
   "toc_position": {},
   "toc_section_display": true,
   "toc_window_display": false
  }
 },
 "nbformat": 4,
 "nbformat_minor": 2
}
