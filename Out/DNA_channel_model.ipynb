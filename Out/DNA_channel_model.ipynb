{
 "cells": [
  {
   "cell_type": "code",
   "execution_count": 1,
   "metadata": {
    "cellView": "both",
    "colab": {},
    "colab_type": "code",
    "id": "csSHKT0T0_QB"
   },
   "outputs": [],
   "source": [
    "#@title import\n",
    "import math\n",
    "import random\n",
    "\n",
    "import pandas as pd\n",
    "import matplotlib.pyplot as plt\n",
    "import matplotlib\n",
    "\n",
    "import seaborn as sns\n",
    "import numpy as np\n",
    "from Visual import *\n",
    "from Model_Helpers import *\n",
    "from Model_Class import *"
   ]
  },
  {
   "cell_type": "code",
   "execution_count": 2,
   "metadata": {
    "cellView": "form",
    "colab": {},
    "colab_type": "code",
    "id": "OVaeNylfQFa4"
   },
   "outputs": [],
   "source": [
    "#@title synthesis\n",
    "#@markdown uplaod the DNA you want to synthesis by running the block\n",
    "DNA_length = 150 #@param {type: \"number\"}\n",
    "PR = 100  #@param {type: \"number\"}\n",
    "DNA_num = 10000 #@param {type: \"number\"}\n",
    "dna_list = [fake_DNA_generator(DNA_length) for i in range(DNA_num)]\n",
    "master_pool = pool(dna_list,PR)\n",
    "#master_pool.display()\n",
    "#@markdown ---\n"
   ]
  },
  {
   "cell_type": "code",
   "execution_count": 3,
   "metadata": {
    "cellView": "both",
    "colab": {
     "base_uri": "https://localhost:8080/",
     "height": 406
    },
    "colab_type": "code",
    "id": "uhQIZFMYLSSd",
    "outputId": "15428578-1bfc-4374-afd0-d65639480fba"
   },
   "outputs": [
    {
     "name": "stdout",
     "output_type": "stream",
     "text": [
      "[100, 100, 100, 100, 100, 100, 100, 100, 100]\n",
      "[64.49938049359912, 66.12596511639714, 65.4780608283514, 66.12596511639714, 59.81607731148224, 65.15275355087861, 65.4780608283514, 63.51227447226051, 64.49938049359912]\n",
      "max: 71\n",
      "var: 4.047196\n",
      "zeros in data: 0\n"
     ]
    },
    {
     "data": {
      "text/plain": [
       "<matplotlib.axes._subplots.AxesSubplot at 0x244c0113ba8>"
      ]
     },
     "execution_count": 3,
     "metadata": {},
     "output_type": "execute_result"
    },
    {
     "data": {
      "image/png": "[encoded data removed]",
      "text/plain": [
       "<Figure size 432x288 with 1 Axes>"
      ]
     },
     "metadata": {},
     "output_type": "display_data"
    }
   ],
   "source": [
    "#@title decay\n",
    "time = 1280  #@param {type: \"number\"}\n",
    "master_pool.decay_f(1280)"
   ]
  },
  {
   "cell_type": "code",
   "execution_count": null,
   "metadata": {
    "cellView": "both",
    "colab": {
     "base_uri": "https://localhost:8080/",
     "height": 703
    },
    "colab_type": "code",
    "id": "F0W9sWmfaGSL",
    "outputId": "ca2e4d22-6937-4ca4-f822-36d27587e618"
   },
   "outputs": [],
   "source": [
    "#@title sample from master pool\n",
    "obtain_num = 10000 #@param {type: \"number\"}\n",
    "import copy\n",
    "sample_pool = copy.deepcopy(master_pool) \n",
    "sample_pool.sample(obtain_num)\n",
    "sample_pool.oligo_num_review()\n",
    "# note the result here"
   ]
  },
  {
   "cell_type": "code",
   "execution_count": null,
   "metadata": {
    "cellView": "both",
    "colab": {
     "base_uri": "https://localhost:8080/",
     "height": 34
    },
    "colab_type": "code",
    "id": "U6MLQqN23_Bg",
    "outputId": "85f8259c-a56a-4947-e2a9-e926c724a44a"
   },
   "outputs": [],
   "source": [
    "#@title recommended PCRC\n",
    "sample_pool.recommended_PCRC()"
   ]
  },
  {
   "cell_type": "code",
   "execution_count": null,
   "metadata": {
    "cellView": "both",
    "colab": {
     "base_uri": "https://localhost:8080/",
     "height": 352
    },
    "colab_type": "code",
    "id": "-OCJXqJ2f-Mz",
    "outputId": "acb5dffb-cacd-4833-fc87-ab98c7318ef6"
   },
   "outputs": [],
   "source": [
    "#@title PCR\n",
    "PCRC = 17.9 #@param {type: \"number\"}\n",
    "#@markdown you can also use recommended PCR instead\n",
    "sample_pool.PCR(PCRC)"
   ]
  },
  {
   "cell_type": "code",
   "execution_count": null,
   "metadata": {
    "cellView": "both",
    "colab": {},
    "colab_type": "code",
    "id": "O9-HZeSR4y9y"
   },
   "outputs": [],
   "source": [
    "#@title sequencing \n",
    "total_reads = 2000 #@param{type :\"number\"}\n",
    "#sample_pool.sequencing(total_reads)\n",
    "x = [i for i in range(50)]\n",
    "a = []\n",
    "for i in range(250):\n",
    "    a.append(master_pool.sequencing(total_reads * (i+1)))\n",
    "    #master_pool.PCR(3)\n",
    "    "
   ]
  },
  {
   "cell_type": "code",
   "execution_count": null,
   "metadata": {
    "colab": {},
    "colab_type": "code",
    "id": "M-68ARo_zRCM"
   },
   "outputs": [],
   "source": [
    "b = [a[i][0] for i in range(50)]"
   ]
  },
  {
   "cell_type": "code",
   "execution_count": 0,
   "metadata": {
    "colab": {},
    "colab_type": "code",
    "id": "6aS39lqmzcu6"
   },
   "outputs": [],
   "source": [
    "c = [(b[i+1] - 2*(i+1))/(2*(i+1)) for i in range(49)]"
   ]
  },
  {
   "cell_type": "code",
   "execution_count": 0,
   "metadata": {
    "colab": {
     "base_uri": "https://localhost:8080/",
     "height": 850
    },
    "colab_type": "code",
    "id": "9L06gPJS0EVG",
    "outputId": "6ffa6a26-fda6-4ad5-9aa9-6cf458667d71"
   },
   "outputs": [
    {
     "data": {
      "text/plain": [
       "[0.5,\n",
       " 0.0,\n",
       " -0.3333333333333333,\n",
       " -0.25,\n",
       " -0.5,\n",
       " 0.0,\n",
       " -0.07142857142857142,\n",
       " 0.3125,\n",
       " -0.3888888888888889,\n",
       " 0.25,\n",
       " 0.18181818181818182,\n",
       " 0.041666666666666664,\n",
       " -0.038461538461538464,\n",
       " -0.07142857142857142,\n",
       " 0.1,\n",
       " -0.03125,\n",
       " -0.058823529411764705,\n",
       " -0.19444444444444445,\n",
       " 0.05263157894736842,\n",
       " -0.25,\n",
       " 0.23809523809523808,\n",
       " 0.09090909090909091,\n",
       " -0.15217391304347827,\n",
       " 0.020833333333333332,\n",
       " -0.22,\n",
       " 0.17307692307692307,\n",
       " -0.25925925925925924,\n",
       " -0.10714285714285714,\n",
       " -0.017241379310344827,\n",
       " -0.11666666666666667,\n",
       " 0.0967741935483871,\n",
       " 0.078125,\n",
       " 0.06060606060606061,\n",
       " -0.20588235294117646,\n",
       " -0.2571428571428571,\n",
       " 0.09722222222222222,\n",
       " 0.02702702702702703,\n",
       " 0.17105263157894737,\n",
       " -0.16666666666666666,\n",
       " -0.0375,\n",
       " 0.24390243902439024,\n",
       " -0.07142857142857142,\n",
       " -0.03488372093023256,\n",
       " -0.045454545454545456,\n",
       " 0.1,\n",
       " 0.21739130434782608,\n",
       " -0.1276595744680851,\n",
       " -0.07291666666666667,\n",
       " 0.01020408163265306]"
      ]
     },
     "execution_count": 174,
     "metadata": {
      "tags": []
     },
     "output_type": "execute_result"
    }
   ],
   "source": [
    "c"
   ]
  },
  {
   "cell_type": "code",
   "execution_count": 0,
   "metadata": {
    "colab": {
     "base_uri": "https://localhost:8080/",
     "height": 272
    },
    "colab_type": "code",
    "id": "YKcHkMS4zG-m",
    "outputId": "f19191f2-ad10-4f14-b653-bfb913a99392"
   },
   "outputs": [
    {
     "data": {
      "text/plain": [
       "[[0, 0, 0, 0, 0, 0, 0, 0, 0, 0, 0],\n",
       " [2, 3, 0, 1, 2, 0, 3, 3, 1, 1, 2],\n",
       " [3, 4, 6, 2, 5, 2, 5, 5, 4, 3, 7],\n",
       " [7, 4, 1, 4, 5, 7, 6, 1, 8, 3, 7],\n",
       " [3, 10, 10, 10, 11, 6, 7, 14, 5, 9, 14],\n",
       " [11, 11, 5, 9, 10, 9, 13, 8, 7, 12, 11],\n",
       " [12, 11, 7, 13, 9, 7, 10, 13, 12, 10, 8],\n",
       " [9, 13, 24, 17, 14, 13, 17, 15, 13, 17, 12],\n",
       " [15, 21, 11, 20, 12, 22, 16, 14, 12, 18, 13],\n",
       " [14, 17, 9, 14, 18, 17, 22, 20, 22, 20, 17],\n",
       " [20, 24, 28, 22, 12, 14, 19, 20, 24, 20, 26],\n",
       " [15, 20, 16, 24, 17, 17, 13, 18, 17, 30, 25],\n",
       " [23, 23, 18, 19, 21, 20, 26, 25, 21, 31, 18],\n",
       " [24, 18, 25, 25, 32, 35, 32, 27, 26, 21, 20],\n",
       " [34, 28, 28, 25, 32, 23, 35, 28, 21, 30, 31]]"
      ]
     },
     "execution_count": 165,
     "metadata": {
      "tags": []
     },
     "output_type": "execute_result"
    }
   ],
   "source": [
    "a"
   ]
  },
  {
   "cell_type": "code",
   "execution_count": 0,
   "metadata": {
    "colab": {
     "base_uri": "https://localhost:8080/",
     "height": 283
    },
    "colab_type": "code",
    "id": "b0dUJqksACvc",
    "outputId": "b1d8139c-a38f-4cd6-ab07-cbdef3e33537"
   },
   "outputs": [
    {
     "data": {
      "image/png": "[encoded data removed]",
      "text/plain": [
       "<Figure size 432x288 with 1 Axes>"
      ]
     },
     "metadata": {
      "tags": []
     },
     "output_type": "display_data"
    }
   ],
   "source": [
    "x = [(i+1)*2 for i in range(49)]\n",
    "plt.plot(x,c)\n",
    "plt.xlabel('expect num')\n",
    "plt.ylabel('delta')\n",
    "plt.show()"
   ]
  },
  {
   "cell_type": "code",
   "execution_count": 0,
   "metadata": {
    "colab": {},
    "colab_type": "code",
    "id": "7saGO03wsrAB"
   },
   "outputs": [],
   "source": []
  }
 ],
 "metadata": {
  "colab": {
   "collapsed_sections": [],
   "name": "DNA channel model.ipynb",
   "provenance": [],
   "version": "0.3.2"
  },
  "hide_input": false,
  "kernelspec": {
   "display_name": "Python 3",
   "language": "python",
   "name": "python3"
  },
  "language_info": {
   "codemirror_mode": {
    "name": "ipython",
    "version": 3
   },
   "file_extension": ".py",
   "mimetype": "text/x-python",
   "name": "python",
   "nbconvert_exporter": "python",
   "pygments_lexer": "ipython3",
   "version": "3.7.3"
  },
  "toc": {
   "base_numbering": 1,
   "nav_menu": {},
   "number_sections": true,
   "sideBar": true,
   "skip_h1_title": false,
   "title_cell": "Table of Contents",
   "title_sidebar": "Contents",
   "toc_cell": false,
   "toc_position": {},
   "toc_section_display": true,
   "toc_window_display": false
  }
 },
 "nbformat": 4,
 "nbformat_minor": 1
}
