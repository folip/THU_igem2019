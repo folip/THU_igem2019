{
 "cells": [
  {
   "cell_type": "markdown",
   "metadata": {},
   "source": [
    "\n",
    "# PIPLINE:\n",
    "## Storage end\n",
    "1. get you FILE(txt or jpg or else), determine KEY(two float: u,x), look up your KEY in MAP(a dictionary) to get KEYDNA(DNA sequence)\n",
    "2. encrypt your FILE with KEY, get ENC-FILE(quanternary list as well as txtfile)\n",
    "3. dna-fountain ENC-FILE, get FT-ENC-FILE\n",
    "4. pack FT-ENC-FILE with KEYDNA, get PACKAGE\n",
    "\n",
    "$ (3.5699456<u<=4, 0<X0<1) $\n",
    "\n",
    "## Receiving end\n",
    "1. from PACKAGE get KEYDNA， look up KEYDNA in MAP to get KEY\n",
    "2. de-fountain FT-ENC-FILE， get ENC-FILE\n",
    "3. de-encrypt ENC-FILE with KEY, get FILE\n",
    "\n",
    "\n",
    "Some tips: \n",
    "1. Attention: some External Dependencies needed, eg. a MAP to encode key(u,x) to DNA \n",
    "2. complex file should be convert to binfile fist \n",
    "3. this code is for showing intermediate variables"
   ]
  },
  {
   "cell_type": "code",
   "execution_count": 1,
   "metadata": {},
   "outputs": [],
   "source": [
    "import numpy as np\n",
    "import random\n",
    "import pdb\n",
    "import os\n",
    "import matplotlib\n",
    "import matplotlib.pyplot as plt\n",
    "p=pdb.set_trace\n",
    "from ENClib import *\n",
    "\n",
    "from PIL import Image\n",
    "imread=Image.open"
   ]
  },
  {
   "cell_type": "code",
   "execution_count": 5,
   "metadata": {},
   "outputs": [],
   "source": [
    "#encryption txt (simple txt files within ascii 0-127, others plz convert to binfile and then encryption )\n",
    "\n",
    "\n",
    "\n",
    "#————————————————————storage end(se)—————————————————————————————\n",
    "#init args\n",
    "encoding='utf-8'\n",
    "#args end\n",
    "\n",
    "f=open(\"1.txt\",'r',encoding=encoding)\n",
    "#f=open(\"1.txt\",'r')\n",
    "txtfile=f.read()\n",
    "f.close()\n",
    "quantlist=txt2quant(txtfile)\n",
    "se_key=[0.3633,0.4333]\n",
    "#just for eg\n",
    "enc_quantlist=encryp_quant(se_key,quantlist)\n",
    "ENCFILE=decode_quant(enc_quantlist)\n",
    "\n",
    "#——————————fountain————————————#\n",
    "#——————————add KEYDNA, get package——————————#\n",
    "\n",
    "\n",
    "#——————————————————————receiving end(re)—————————————————————————————————————\n",
    "#——————from package,get KEYDNA,then look for key————————#\n",
    "#here need a search map operation to get key, but i havent done this\n",
    "#KEYDNA=get_keydna(PACKAGE)\n",
    "#key=get_key(KEYDNA,MAP)\n",
    "#——————————defountain,get ENC-FILE——————————#\n",
    "#not my part,get re_ENCFILE\n",
    "\n",
    "re_key=se_key\n",
    "re_ENCFILE=ENCFILE\n",
    "\n",
    "re_enc_quantlist=txt2quant(re_ENCFILE)\n",
    "re_quantlist=deencryp_quant(re_key,re_enc_quantlist)\n",
    "re_file=quant2txt(re_quantlist)\n",
    "ff=open(\"2.txt\",'w',encoding=encoding)\n",
    "ff.write(re_file)\n",
    "ff.close()"
   ]
  }
 ],
 "metadata": {
  "hide_input": false,
  "kernelspec": {
   "display_name": "Python 3",
   "language": "python",
   "name": "python3"
  },
  "language_info": {
   "codemirror_mode": {
    "name": "ipython",
    "version": 3
   },
   "file_extension": ".py",
   "mimetype": "text/x-python",
   "name": "python",
   "nbconvert_exporter": "python",
   "pygments_lexer": "ipython3",
   "version": "3.7.3"
  },
  "toc": {
   "base_numbering": 1,
   "nav_menu": {},
   "number_sections": true,
   "sideBar": true,
   "skip_h1_title": false,
   "title_cell": "Table of Contents",
   "title_sidebar": "Contents",
   "toc_cell": false,
   "toc_position": {},
   "toc_section_display": true,
   "toc_window_display": false
  }
 },
 "nbformat": 4,
 "nbformat_minor": 2
}
